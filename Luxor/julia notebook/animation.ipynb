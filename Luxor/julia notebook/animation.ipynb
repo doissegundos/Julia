{
 "cells": [
  {
   "cell_type": "code",
   "execution_count": 2,
   "id": "9b16e586",
   "metadata": {},
   "outputs": [],
   "source": [
    "using Luxor"
   ]
  },
  {
   "cell_type": "markdown",
   "id": "dfcabe9f",
   "metadata": {},
   "source": [
    "2: Combining scenes\n"
   ]
  },
  {
   "cell_type": "code",
   "execution_count": 3,
   "id": "f972472f",
   "metadata": {},
   "outputs": [
    {
     "data": {
      "text/plain": [
       "Movie(400.0, 400.0, \"sun24\", 0:23)"
      ]
     },
     "execution_count": 3,
     "metadata": {},
     "output_type": "execute_result"
    }
   ],
   "source": [
    "sun24demo = Movie(400, 400, \"sun24\", 0:23)"
   ]
  },
  {
   "cell_type": "code",
   "execution_count": 4,
   "id": "e16d2f1e",
   "metadata": {},
   "outputs": [
    {
     "data": {
      "text/plain": [
       "backgroundfunction (generic function with 1 method)"
      ]
     },
     "execution_count": 4,
     "metadata": {},
     "output_type": "execute_result"
    }
   ],
   "source": [
    "function backgroundfunction(scene::Scene, framenumber)\n",
    "    background(\"black\")\n",
    "end"
   ]
  },
  {
   "cell_type": "code",
   "execution_count": 5,
   "id": "e4ab5e09",
   "metadata": {},
   "outputs": [
    {
     "data": {
      "text/plain": [
       "nightskyfunction (generic function with 1 method)"
      ]
     },
     "execution_count": 5,
     "metadata": {},
     "output_type": "execute_result"
    }
   ],
   "source": [
    "function nightskyfunction(scene::Scene, framenumber)\n",
    "    sethue(\"midnightblue\")\n",
    "    box(O, 400, 400, :fill)\n",
    "end"
   ]
  },
  {
   "cell_type": "code",
   "execution_count": 6,
   "id": "93740c50",
   "metadata": {},
   "outputs": [
    {
     "data": {
      "text/plain": [
       "dayskyfunction (generic function with 1 method)"
      ]
     },
     "execution_count": 6,
     "metadata": {},
     "output_type": "execute_result"
    }
   ],
   "source": [
    "function dayskyfunction(scene::Scene, framenumber)\n",
    "    sethue(\"skyblue\")\n",
    "    box(O, 400, 400, :fill)\n",
    "end"
   ]
  },
  {
   "cell_type": "code",
   "execution_count": 7,
   "id": "e75852f9",
   "metadata": {},
   "outputs": [
    {
     "data": {
      "text/plain": [
       "sunfunction (generic function with 1 method)"
      ]
     },
     "execution_count": 7,
     "metadata": {},
     "output_type": "execute_result"
    }
   ],
   "source": [
    "function sunfunction(scene::Scene, framenumber)\n",
    "    t = rescale(framenumber, 0, 23, 2pi, 0)\n",
    "    gsave()\n",
    "        sethue(\"yellow\")\n",
    "        circle(polar(150, t), 20, :fill)\n",
    "    grestore()\n",
    "end"
   ]
  },
  {
   "cell_type": "code",
   "execution_count": 8,
   "id": "0a259a25",
   "metadata": {},
   "outputs": [
    {
     "ename": "LoadError",
     "evalue": "syntax: incomplete: invalid \"`\" syntax",
     "output_type": "error",
     "traceback": [
      "syntax: incomplete: invalid \"`\" syntax",
      "",
      "Stacktrace:",
      " [1] top-level scope",
      "   @ In[8]:8",
      " [2] eval",
      "   @ .\\boot.jl:373 [inlined]",
      " [3] include_string(mapexpr::typeof(REPL.softscope), mod::Module, code::String, filename::String)",
      "   @ Base .\\loading.jl:1196"
     ]
    }
   ],
   "source": [
    "function groundfunction(scene::Scene, framenumber)\n",
    "    gsave()\n",
    "    sethue(\"brown\")\n",
    "    box(Point(O.x, O.y + 100), 400, 200, :fill)\n",
    "    grestore()\n",
    "    sethue(\"white\")\n",
    "end\n",
    "```"
   ]
  },
  {
   "cell_type": "code",
   "execution_count": 9,
   "id": "2a92294c",
   "metadata": {},
   "outputs": [
    {
     "data": {
      "text/plain": [
       "Scene(Movie(400.0, 400.0, \"sun24\", 0:23), groundfunction, 0:23, Luxor.lineartween, nothing)"
      ]
     },
     "execution_count": 9,
     "metadata": {},
     "output_type": "execute_result"
    }
   ],
   "source": [
    "backdrop  = Scene(sun24demo, backgroundfunction, 0:23)   # every frame\n",
    "nightsky  = Scene(sun24demo, nightskyfunction, 0:6)      # midnight to 06:00\n",
    "nightsky1 = Scene(sun24demo, nightskyfunction, 17:23)    # 17:00 to 23:00\n",
    "daysky    = Scene(sun24demo, dayskyfunction, 5:19)       # 05:00 to 19:00\n",
    "sun       = Scene(sun24demo, sunfunction, 6:18)          # 06:00 to 18:00\n",
    "ground    = Scene(sun24demo, groundfunction, 0:23)       # every frame"
   ]
  },
  {
   "cell_type": "code",
   "execution_count": 10,
   "id": "dc17f16c",
   "metadata": {},
   "outputs": [
    {
     "name": "stderr",
     "output_type": "stream",
     "text": [
      "┌ Info: Frames for animation \"sun24\" are being stored in directory: \n",
      "│ \t C:\\Users\\STEFA\\AppData\\Local\\Temp\\jl_WhRF7B\n",
      "└ @ Luxor C:\\Users\\STEFA\\.julia\\packages\\Luxor\\kDdL3\\src\\animate.jl:195\n",
      "┌ Info: ... 24 frames saved in directory:\n",
      "│ \t C:\\Users\\STEFA\\AppData\\Local\\Temp\\jl_WhRF7B\n",
      "└ @ Luxor C:\\Users\\STEFA\\.julia\\packages\\Luxor\\kDdL3\\src\\animate.jl:217\n",
      "┌ Info: GIF is: C:\\Users\\STEFA\\AppData\\Local\\Temp\\jl_WhRF7B/sun24.gif\n",
      "└ @ Luxor C:\\Users\\STEFA\\.julia\\packages\\Luxor\\kDdL3\\src\\animate.jl:246\n"
     ]
    },
    {
     "data": {
      "text/html": [
       "<img src=\"data:image/gif;base64,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\" />"
      ],
      "text/plain": [
       "Luxor.AnimatedGif(\"C:\\\\Users\\\\STEFA\\\\AppData\\\\Local\\\\Temp\\\\jl_WhRF7B/sun24.gif\")"
      ]
     },
     "execution_count": 10,
     "metadata": {},
     "output_type": "execute_result"
    }
   ],
   "source": [
    "animate(sun24demo, [\n",
    "   backdrop, nightsky, nightsky1, daysky, sun, ground\n",
    "   ],\n",
    "   framerate=5,\n",
    "   creategif=true)"
   ]
  },
  {
   "cell_type": "code",
   "execution_count": 11,
   "id": "bce98f47",
   "metadata": {},
   "outputs": [
    {
     "data": {
      "text/plain": [
       "frame (generic function with 1 method)"
      ]
     },
     "execution_count": 11,
     "metadata": {},
     "output_type": "execute_result"
    }
   ],
   "source": [
    "function frame(scene, framenumber)\n",
    "    background(\"black\")\n",
    "    n   = rescale(framenumber, scene.framerange.start, scene.framerange.stop, 0, 1)\n",
    "    n2π = rescale(n, 0, 1, 0, 2π)\n",
    "    sethue(n, 0.5, 0.5)\n",
    "    box(BoundingBox(), :fill)\n",
    "    if 0.25 < n < 0.75\n",
    "        sethue(\"yellow\")\n",
    "        circle(polar(150, n2π + π/2), 20, :fill)\n",
    "    end\n",
    "    if n < 0.25 || n > 0.75\n",
    "        sethue(\"white\")\n",
    "        circle(polar(150, n2π + π/2), 20, :fill)\n",
    "    end\n",
    "end"
   ]
  },
  {
   "cell_type": "code",
   "execution_count": null,
   "id": "a58fa1b7",
   "metadata": {},
   "outputs": [],
   "source": []
  }
 ],
 "metadata": {
  "kernelspec": {
   "display_name": "Julia 1.7.2",
   "language": "julia",
   "name": "julia-1.7"
  },
  "language_info": {
   "file_extension": ".jl",
   "mimetype": "application/julia",
   "name": "julia",
   "version": "1.7.2"
  }
 },
 "nbformat": 4,
 "nbformat_minor": 5
}
